{
 "cells": [
  {
   "cell_type": "code",
   "execution_count": 15,
   "metadata": {},
   "outputs": [],
   "source": [
    "# Sample transactions\n",
    "transactions = [\n",
    "    ['milk', 'bread', 'butter'],\n",
    "    ['milk', 'bread'],\n",
    "    ['bread', 'butter'],\n",
    "    ['milk', 'bread', 'butter', 'eggs'],\n",
    "    ['milk', 'bread', 'eggs'],\n",
    "    ['butter', 'eggs']\n",
    "]"
   ]
  },
  {
   "cell_type": "code",
   "execution_count": 16,
   "metadata": {},
   "outputs": [],
   "source": [
    "from itertools import combinations\n",
    "from collections import Counter\n",
    "\n",
    "def apriori(transactions, min_support, min_confidence):\n",
    "    # Count item occurrences\n",
    "    item_counts = Counter(item for transaction in transactions for item in transaction)\n",
    "    \n",
    "    # Generate frequent 1-itemsets\n",
    "    n = len(transactions)\n",
    "    frequent_itemsets = {1: {(item,): count for item, count in item_counts.items() if count >= min_support}}\n",
    "    k = 2\n",
    "    \n",
    "    while frequent_itemsets[k-1]:\n",
    "        candidates = set()\n",
    "        for itemset1 in frequent_itemsets[k-1]:\n",
    "            for itemset2 in frequent_itemsets[k-1]:\n",
    "                union = tuple(sorted(set(itemset1) | set(itemset2)))\n",
    "                if len(union) == k:\n",
    "                    candidates.add(union)\n",
    "        \n",
    "        # Count candidate occurrences\n",
    "        candidate_counts = Counter()\n",
    "        for transaction in transactions:\n",
    "            transaction_set = set(transaction)\n",
    "            for candidate in candidates:\n",
    "                if set(candidate).issubset(transaction_set):\n",
    "                    candidate_counts[candidate] += 1\n",
    "        \n",
    "        # Filter frequent k-itemsets\n",
    "        frequent_itemsets[k] = {itemset: count for itemset, count in candidate_counts.items() if count >= min_support}\n",
    "        k += 1\n",
    "    \n",
    "    # Combine all frequent itemsets\n",
    "    all_frequent_itemsets = {}\n",
    "    for k_itemsets in frequent_itemsets.values():\n",
    "        all_frequent_itemsets.update(k_itemsets)\n",
    "    \n",
    "    # Generate association rules\n",
    "    rules = []\n",
    "    for itemset, itemset_support in all_frequent_itemsets.items():\n",
    "        if len(itemset) > 1:\n",
    "            for i in range(1, len(itemset)):\n",
    "                for antecedent in combinations(itemset, i):\n",
    "                    antecedent = tuple(sorted(antecedent))\n",
    "                    consequent = tuple(sorted(set(itemset) - set(antecedent)))\n",
    "                    if antecedent in all_frequent_itemsets:\n",
    "                        confidence = itemset_support / all_frequent_itemsets[antecedent]\n",
    "                        if confidence >= min_confidence:\n",
    "                            support = itemset_support / n\n",
    "                            rules.append((antecedent, consequent, support, confidence))\n",
    "    \n",
    "    return all_frequent_itemsets, rules, n"
   ]
  },
  {
   "cell_type": "code",
   "execution_count": 17,
   "metadata": {},
   "outputs": [],
   "source": [
    "def print_results(frequent_itemsets, rules, total_transactions):\n",
    "    print(\"Frequent Itemsets:\")\n",
    "    for itemset, count in frequent_itemsets.items():\n",
    "        support = count / total_transactions\n",
    "        print(f\"{itemset}: Support = {count}/{total_transactions} ({support:.4f})\")\n",
    "    \n",
    "    print(\"\\nAssociation Rules:\")\n",
    "    for antecedent, consequent, support, confidence in rules:\n",
    "        print(f\"{antecedent} -> {consequent}: Support = {support:.4f}, Confidence = {confidence:.4f}\")\n",
    "\n"
   ]
  },
  {
   "cell_type": "code",
   "execution_count": 14,
   "metadata": {},
   "outputs": [
    {
     "name": "stdout",
     "output_type": "stream",
     "text": [
      "Frequent Itemsets:\n",
      "('milk',): Support = 4/6 (0.6667)\n",
      "('bread',): Support = 5/6 (0.8333)\n",
      "('butter',): Support = 4/6 (0.6667)\n",
      "('eggs',): Support = 3/6 (0.5000)\n",
      "('bread', 'butter'): Support = 3/6 (0.5000)\n",
      "('butter', 'milk'): Support = 2/6 (0.3333)\n",
      "('bread', 'milk'): Support = 4/6 (0.6667)\n",
      "('butter', 'eggs'): Support = 2/6 (0.3333)\n",
      "('eggs', 'milk'): Support = 2/6 (0.3333)\n",
      "('bread', 'eggs'): Support = 2/6 (0.3333)\n",
      "('bread', 'butter', 'milk'): Support = 2/6 (0.3333)\n",
      "('bread', 'eggs', 'milk'): Support = 2/6 (0.3333)\n",
      "\n",
      "Association Rules:\n",
      "('bread',) -> ('butter',): Support = 0.5000, Confidence = 0.6000\n",
      "('butter',) -> ('bread',): Support = 0.5000, Confidence = 0.7500\n",
      "('bread',) -> ('milk',): Support = 0.6667, Confidence = 0.8000\n",
      "('milk',) -> ('bread',): Support = 0.6667, Confidence = 1.0000\n",
      "('eggs',) -> ('butter',): Support = 0.3333, Confidence = 0.6667\n",
      "('eggs',) -> ('milk',): Support = 0.3333, Confidence = 0.6667\n",
      "('eggs',) -> ('bread',): Support = 0.3333, Confidence = 0.6667\n",
      "('bread', 'butter') -> ('milk',): Support = 0.3333, Confidence = 0.6667\n",
      "('butter', 'milk') -> ('bread',): Support = 0.3333, Confidence = 1.0000\n",
      "('eggs',) -> ('bread', 'milk'): Support = 0.3333, Confidence = 0.6667\n",
      "('bread', 'eggs') -> ('milk',): Support = 0.3333, Confidence = 1.0000\n",
      "('eggs', 'milk') -> ('bread',): Support = 0.3333, Confidence = 1.0000\n"
     ]
    }
   ],
   "source": [
    "min_support = 2  # Minimum number of transactions\n",
    "min_confidence = 0.6\n",
    "\n",
    "frequent_itemsets, rules, total_transactions = apriori(transactions, min_support, min_confidence)\n",
    "print_results(frequent_itemsets, rules, total_transactions)"
   ]
  },
  {
   "cell_type": "code",
   "execution_count": null,
   "metadata": {},
   "outputs": [],
   "source": []
  }
 ],
 "metadata": {
  "kernelspec": {
   "display_name": "Python 3 (ipykernel)",
   "language": "python",
   "name": "python3"
  },
  "language_info": {
   "codemirror_mode": {
    "name": "ipython",
    "version": 3
   },
   "file_extension": ".py",
   "mimetype": "text/x-python",
   "name": "python",
   "nbconvert_exporter": "python",
   "pygments_lexer": "ipython3",
   "version": "3.12.3"
  }
 },
 "nbformat": 4,
 "nbformat_minor": 4
}
