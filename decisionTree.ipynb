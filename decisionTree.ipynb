{
 "cells": [
  {
   "cell_type": "code",
   "execution_count": 1,
   "id": "a1a5be7e-b0f1-45fa-a799-879417b7e9be",
   "metadata": {},
   "outputs": [
    {
     "name": "stdout",
     "output_type": "stream",
     "text": [
      "[0, 1, 'Non-mammal', [3, 1, 'Non-Mammal', 'Mammal']]\n",
      "Prediction for the new sample: Non-Mammal\n"
     ]
    }
   ],
   "source": [
    "import numpy as np\n",
    "\n",
    "def entropy(y):\n",
    "    _, counts = np.unique(y, return_counts=True)\n",
    "    probs = counts / len(y)\n",
    "    return -sum(p * np.log2(p) for p in probs)\n",
    "\n",
    "def information_gain(y, y_left, y_right):\n",
    "    p = len(y_left) / len(y)\n",
    "    return entropy(y) - p * entropy(y_left) - (1 - p) * entropy(y_right)\n",
    "\n",
    "def find_best_split(X, y):\n",
    "    best_feature, best_threshold, best_gain = None, None, 0\n",
    "\n",
    "    for feature in range(X.shape[1]):\n",
    "        values = X[:, feature]\n",
    "        unique_vals = np.unique(values)\n",
    "        for threshold in unique_vals:\n",
    "            left_idx = values < threshold\n",
    "            y_left = y[left_idx]\n",
    "            y_right = y[~left_idx]\n",
    "            gain = information_gain(y, y_left, y_right)\n",
    "            if gain > best_gain:\n",
    "                best_feature, best_threshold, best_gain = feature, threshold, gain\n",
    "\n",
    "    return best_feature, best_threshold, best_gain\n",
    "\n",
    "def build_tree(X, y, max_depth=None, min_samples_split=2):\n",
    "    if len(np.unique(y)) == 1 or len(y) < min_samples_split or (max_depth is not None and max_depth == 0):\n",
    "        return unique_labels[np.bincount(y).argmax()]\n",
    "\n",
    "    best_feature, best_threshold, best_gain = find_best_split(X, y)\n",
    "\n",
    "    left_idx = X[:, best_feature] < best_threshold\n",
    "    right_idx = ~left_idx\n",
    "\n",
    "    left_tree = build_tree(X[left_idx], y[left_idx], max_depth - 1 if max_depth is not None else max_depth, min_samples_split)\n",
    "    right_tree = build_tree(X[right_idx], y[right_idx], max_depth - 1 if max_depth is not None else max_depth, min_samples_split)\n",
    "\n",
    "    return [best_feature, best_threshold, left_tree, right_tree]\n",
    "\n",
    "def predict(X, tree):\n",
    "    if isinstance(tree, str):\n",
    "        return tree\n",
    "\n",
    "    feature, threshold, left_tree, right_tree = tree\n",
    "    if X[feature] < threshold:\n",
    "        return predict(X, left_tree)\n",
    "    else:\n",
    "        return predict(X, right_tree)\n",
    "    \n",
    "data = np.array([\n",
    "    [0, 0, 1, 1, \"Non-mammal\"],\n",
    "    [0, 1, 0, 0, \"Non-mammal\"],\n",
    "    [1, 0, 0, 0, \"Non-Mammal\"],\n",
    "    [1, 0, 0, 1, \"Mammal\"],\n",
    "    [1, 0, 1, 1, \"Mammal\"],\n",
    "])\n",
    "\n",
    "unique_labels, y = np.unique(data[:, -1], return_inverse=True)\n",
    "X = data[:, :-1].astype(int)\n",
    "\n",
    "tree = build_tree(X, y, max_depth=3)\n",
    "print(tree)\n",
    "\n",
    "new_sample = np.array([1, 1, 0, 0])\n",
    "prediction = predict(new_sample, tree)\n",
    "print(f\"Prediction for the new sample: {prediction}\")"
   ]
  },
  {
   "cell_type": "code",
   "execution_count": null,
   "id": "1ad17cce-4775-40a7-b7c6-4c1b569696e6",
   "metadata": {},
   "outputs": [],
   "source": []
  }
 ],
 "metadata": {
  "kernelspec": {
   "display_name": "Python 3 (ipykernel)",
   "language": "python",
   "name": "python3"
  },
  "language_info": {
   "codemirror_mode": {
    "name": "ipython",
    "version": 3
   },
   "file_extension": ".py",
   "mimetype": "text/x-python",
   "name": "python",
   "nbconvert_exporter": "python",
   "pygments_lexer": "ipython3",
   "version": "3.12.3"
  }
 },
 "nbformat": 4,
 "nbformat_minor": 5
}
